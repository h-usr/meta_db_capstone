{
 "cells": [
  {
   "cell_type": "markdown",
   "metadata": {},
   "source": [
    "# Database setup"
   ]
  },
  {
   "cell_type": "markdown",
   "metadata": {},
   "source": [
    "Import libraries"
   ]
  },
  {
   "cell_type": "code",
   "execution_count": null,
   "metadata": {},
   "outputs": [],
   "source": [
    "import mysql.connector as connector"
   ]
  },
  {
   "cell_type": "markdown",
   "metadata": {},
   "source": [
    "Connect to localhost DB"
   ]
  },
  {
   "cell_type": "code",
   "execution_count": null,
   "metadata": {},
   "outputs": [],
   "source": [
    "connection = connector.connect(user = \"mysql\", password = \"mysql\")\n",
    "cursor = connection.cursor()\n",
    "print(\"Connected to DB\")"
   ]
  },
  {
   "cell_type": "markdown",
   "metadata": {},
   "source": [
    "Delete DB if exists to grant a fresh start"
   ]
  },
  {
   "cell_type": "code",
   "execution_count": null,
   "metadata": {},
   "outputs": [],
   "source": [
    "cursor.execute(\"DROP DATABASE IF EXISTS LittleLemonDB\")"
   ]
  },
  {
   "cell_type": "markdown",
   "metadata": {},
   "source": [
    "Create and Use DB"
   ]
  },
  {
   "cell_type": "code",
   "execution_count": null,
   "metadata": {},
   "outputs": [],
   "source": [
    "cursor.execute(\"CREATE DATABASE LittleLemonDB\") \n",
    "print(\"Little Lemon DB created\")"
   ]
  },
  {
   "cell_type": "code",
   "execution_count": null,
   "metadata": {},
   "outputs": [],
   "source": [
    "cursor.execute(\"USE LittleLemonDB\")"
   ]
  },
  {
   "cell_type": "markdown",
   "metadata": {},
   "source": [
    "Generate tables using SQL code generated from the ER diagram with the Forward Engineer function of MySQL Workbench"
   ]
  },
  {
   "cell_type": "code",
   "execution_count": null,
   "metadata": {},
   "outputs": [],
   "source": [
    "cursor.execute(\"\"\"\n",
    "-- MySQL Workbench Forward Engineering\n",
    "\n",
    "SET @OLD_UNIQUE_CHECKS=@@UNIQUE_CHECKS, UNIQUE_CHECKS=0;\n",
    "SET @OLD_FOREIGN_KEY_CHECKS=@@FOREIGN_KEY_CHECKS, FOREIGN_KEY_CHECKS=0;\n",
    "SET @OLD_SQL_MODE=@@SQL_MODE, SQL_MODE='ONLY_FULL_GROUP_BY,STRICT_TRANS_TABLES,NO_ZERO_IN_DATE,NO_ZERO_DATE,ERROR_FOR_DIVISION_BY_ZERO,NO_ENGINE_SUBSTITUTION';\n",
    "\n",
    "-- -----------------------------------------------------\n",
    "-- Schema LittleLemonDB\n",
    "-- -----------------------------------------------------\n",
    "\n",
    "-- -----------------------------------------------------\n",
    "-- Schema LittleLemonDB\n",
    "-- -----------------------------------------------------\n",
    "CREATE SCHEMA IF NOT EXISTS `LittleLemonDB` DEFAULT CHARACTER SET utf8 ;\n",
    "USE `LittleLemonDB` ;\n",
    "\n",
    "-- -----------------------------------------------------\n",
    "-- Table `LittleLemonDB`.`Customers`\n",
    "-- -----------------------------------------------------\n",
    "CREATE TABLE IF NOT EXISTS `LittleLemonDB`.`Customers` (\n",
    "  `id` INT NOT NULL AUTO_INCREMENT,\n",
    "  `fullName` VARCHAR(45) NOT NULL,\n",
    "  `phoneNumber` VARCHAR(45) NULL,\n",
    "  `email` VARCHAR(45) NULL,\n",
    "  PRIMARY KEY (`id`),\n",
    "  UNIQUE INDEX `id_UNIQUE` (`id` ASC) VISIBLE)\n",
    "ENGINE = InnoDB;\n",
    "\n",
    "\n",
    "-- -----------------------------------------------------\n",
    "-- Table `LittleLemonDB`.`Bookings`\n",
    "-- -----------------------------------------------------\n",
    "CREATE TABLE IF NOT EXISTS `LittleLemonDB`.`Bookings` (\n",
    "  `id` INT NOT NULL AUTO_INCREMENT,\n",
    "  `date` DATETIME NOT NULL,\n",
    "  `tableNo` INT NOT NULL,\n",
    "  `customerId` INT NOT NULL,\n",
    "  PRIMARY KEY (`id`),\n",
    "  UNIQUE INDEX `id_UNIQUE` (`id` ASC) VISIBLE,\n",
    "  INDEX `fk_Bookings_1_idx` (`customerId` ASC) VISIBLE,\n",
    "  CONSTRAINT `fk_Bookings_1`\n",
    "    FOREIGN KEY (`customerId`)\n",
    "    REFERENCES `LittleLemonDB`.`Customers` (`id`)\n",
    "    ON DELETE NO ACTION\n",
    "    ON UPDATE NO ACTION)\n",
    "ENGINE = InnoDB;\n",
    "\n",
    "\n",
    "-- -----------------------------------------------------\n",
    "-- Table `LittleLemonDB`.`MenuItems`\n",
    "-- -----------------------------------------------------\n",
    "CREATE TABLE IF NOT EXISTS `LittleLemonDB`.`MenuItems` (\n",
    "  `id` INT NOT NULL AUTO_INCREMENT,\n",
    "  `courseName` VARCHAR(45) NOT NULL,\n",
    "  `starterName` VARCHAR(45) NOT NULL,\n",
    "  `dessertName` VARCHAR(45) NOT NULL,\n",
    "  PRIMARY KEY (`id`),\n",
    "  UNIQUE INDEX `id_UNIQUE` (`id` ASC) VISIBLE)\n",
    "ENGINE = InnoDB;\n",
    "\n",
    "\n",
    "-- -----------------------------------------------------\n",
    "-- Table `LittleLemonDB`.`Menus`\n",
    "-- -----------------------------------------------------\n",
    "CREATE TABLE IF NOT EXISTS `LittleLemonDB`.`Menus` (\n",
    "  `id` INT NOT NULL AUTO_INCREMENT,\n",
    "  `menuItemsId` INT NOT NULL,\n",
    "  `name` VARCHAR(45) NOT NULL,\n",
    "  `cuisine` VARCHAR(45) NOT NULL,\n",
    "  PRIMARY KEY (`id`),\n",
    "  UNIQUE INDEX `id_UNIQUE` (`id` ASC) VISIBLE,\n",
    "  INDEX `fk_Menus_1_idx` (`menuItemsId` ASC) VISIBLE,\n",
    "  CONSTRAINT `fk_Menus_1`\n",
    "    FOREIGN KEY (`menuItemsId`)\n",
    "    REFERENCES `LittleLemonDB`.`MenuItems` (`id`)\n",
    "    ON DELETE NO ACTION\n",
    "    ON UPDATE NO ACTION)\n",
    "ENGINE = InnoDB;\n",
    "\n",
    "\n",
    "-- -----------------------------------------------------\n",
    "-- Table `LittleLemonDB`.`Orders`\n",
    "-- -----------------------------------------------------\n",
    "CREATE TABLE IF NOT EXISTS `LittleLemonDB`.`Orders` (\n",
    "  `id` INT NOT NULL AUTO_INCREMENT,\n",
    "  `menuId` INT NOT NULL,\n",
    "  `customerId` INT NOT NULL,\n",
    "  `totalCost` FLOAT NOT NULL,\n",
    "  PRIMARY KEY (`id`),\n",
    "  UNIQUE INDEX `id_UNIQUE` (`id` ASC) VISIBLE,\n",
    "  INDEX `fk_Orders_1_idx` (`menuId` ASC) VISIBLE,\n",
    "  INDEX `fk_Orders_2_idx` (`customerId` ASC) VISIBLE,\n",
    "  CONSTRAINT `fk_Orders_1`\n",
    "    FOREIGN KEY (`menuId`)\n",
    "    REFERENCES `LittleLemonDB`.`Menus` (`id`)\n",
    "    ON DELETE NO ACTION\n",
    "    ON UPDATE NO ACTION,\n",
    "  CONSTRAINT `fk_Orders_2`\n",
    "    FOREIGN KEY (`customerId`)\n",
    "    REFERENCES `LittleLemonDB`.`Customers` (`id`)\n",
    "    ON DELETE NO ACTION\n",
    "    ON UPDATE NO ACTION)\n",
    "ENGINE = InnoDB;\n",
    "\n",
    "\n",
    "-- -----------------------------------------------------\n",
    "-- Table `LittleLemonDB`.`OrderStatus`\n",
    "-- -----------------------------------------------------\n",
    "CREATE TABLE IF NOT EXISTS `LittleLemonDB`.`OrderStatus` (\n",
    "  `id` INT NOT NULL AUTO_INCREMENT,\n",
    "  `orderId` INT NOT NULL,\n",
    "  `date` DATETIME NOT NULL,\n",
    "  `status` VARCHAR(45) NOT NULL,\n",
    "  PRIMARY KEY (`id`),\n",
    "  UNIQUE INDEX `id_UNIQUE` (`id` ASC) VISIBLE,\n",
    "  INDEX `fk_OrderStatus_1_idx` (`orderId` ASC) VISIBLE,\n",
    "  CONSTRAINT `fk_OrderStatus_1`\n",
    "    FOREIGN KEY (`orderId`)\n",
    "    REFERENCES `LittleLemonDB`.`Orders` (`id`)\n",
    "    ON DELETE NO ACTION\n",
    "    ON UPDATE NO ACTION)\n",
    "ENGINE = InnoDB;\n",
    "\n",
    "\n",
    "-- -----------------------------------------------------\n",
    "-- Table `LittleLemonDB`.`Staff`\n",
    "-- -----------------------------------------------------\n",
    "CREATE TABLE IF NOT EXISTS `LittleLemonDB`.`Staff` (\n",
    "  `id` INT NOT NULL AUTO_INCREMENT,\n",
    "  `fullName` VARCHAR(45) NOT NULL,\n",
    "  `role` VARCHAR(45) NOT NULL,\n",
    "  `salary` FLOAT NOT NULL,\n",
    "  PRIMARY KEY (`id`),\n",
    "  UNIQUE INDEX `id_UNIQUE` (`id` ASC) VISIBLE)\n",
    "ENGINE = InnoDB;\n",
    "\n",
    "\n",
    "SET SQL_MODE=@OLD_SQL_MODE;\n",
    "SET FOREIGN_KEY_CHECKS=@OLD_FOREIGN_KEY_CHECKS;\n",
    "SET UNIQUE_CHECKS=@OLD_UNIQUE_CHECKS;\n",
    "\"\"\")"
   ]
  },
  {
   "cell_type": "markdown",
   "metadata": {},
   "source": [
    "Insert dummy data in the tables"
   ]
  },
  {
   "cell_type": "code",
   "execution_count": null,
   "metadata": {},
   "outputs": [],
   "source": [
    "cursor.execute(\"\"\"\n",
    "INSERT INTO Customers (fullName, phoneNumber, email)\n",
    "VALUES\n",
    "('Anna Iversen','+123456','a.iversen@mail.com'),\n",
    "('Joakim Iversen', '+138756', 'j.iversen@mail.com'),\n",
    "('Vanessa McCarthy', '+144459', 'v.mccarthy@mail.com'),\n",
    "('Marcos Romero', '+121006', 'm.romero@mail.com'),\n",
    "('Hiroki Yamane', '+100437', 'h.yamane@mail.com'),\n",
    "('Diana Pinto', '+199559', 'd.pinto@mail.com');      \n",
    "\n",
    "INSERT INTO Bookings (date, tableNo, customerId)\n",
    "VALUES\n",
    "('2024-01-05 19:30:00',1,1),\n",
    "('2024-01-05 19:30:00',6,3),\n",
    "('2024-01-05 20:00:00',3,4),\n",
    "('2024-01-05 20:00:00',8,5),\n",
    "('2024-01-05 20:30:00',2,6);                    \n",
    "\n",
    "INSERT INTO MenuItems (courseName, starterName, dessertName)\n",
    "VALUES\n",
    "('Olives','Olive Starters','Olive Dessert'),\n",
    "('Flatbread','Bread Starters', 'Olive Dessert'),\n",
    "('Minestrone', 'Soup Starters', 'Olive Dessert'),\n",
    "('Tomato bread','Tomato Starters', 'Olive Dessert'),\n",
    "('Falafel', 'Falafel Starters', 'Olive Dessert');\n",
    "               \n",
    "INSERT INTO Menus (menuItemsId, name, cuisine)\n",
    "VALUES\n",
    "(1, 'Olives menu','Italian'),\n",
    "(2, 'Flatbread menu','Italian'),\n",
    "(3, 'Minestrone menu', 'Italian'),\n",
    "(4, 'Tomato bread menu','American'),\n",
    "(5, 'Falafel menu', 'Arab');               \n",
    "\n",
    "INSERT INTO Orders (menuId, customerId, totalCost)\n",
    "VALUES\n",
    "(2, 1, 100),\n",
    "(3, 4, 150),\n",
    "(3, 2, 120),\n",
    "(1, 5, 35),\n",
    "(4, 3, 80);     \n",
    "                        \n",
    "INSERT INTO OrderStatus (orderId, date, status)\n",
    "VALUES\n",
    "(1, '2024-01-05 20:00', 100),\n",
    "(2, '2024-01-05 20:00', 150),\n",
    "(3, '2024-01-05 20:00', 120),\n",
    "(4, '2024-01-05 21:00', 35),\n",
    "(5, '2024-01-05 21:00', 80);  \n",
    "\n",
    "INSERT INTO Staff (fullName, role, salary)\n",
    "VALUES\n",
    "('Mario Rossi', 'Owner', 100000),\n",
    "('Luigi Bianchi', 'Chef', 70000),\n",
    "('Marco Verdi', 'Waiter', 40000); \n",
    "\"\"\")"
   ]
  },
  {
   "cell_type": "code",
   "execution_count": null,
   "metadata": {},
   "outputs": [],
   "source": [
    "cursor.close()"
   ]
  },
  {
   "cell_type": "code",
   "execution_count": null,
   "metadata": {},
   "outputs": [],
   "source": [
    "connection.commit()"
   ]
  }
 ],
 "metadata": {
  "kernelspec": {
   "display_name": "Python 3",
   "language": "python",
   "name": "python3"
  },
  "language_info": {
   "codemirror_mode": {
    "name": "ipython",
    "version": 3
   },
   "file_extension": ".py",
   "mimetype": "text/x-python",
   "name": "python",
   "nbconvert_exporter": "python",
   "pygments_lexer": "ipython3",
   "version": "3.12.3"
  }
 },
 "nbformat": 4,
 "nbformat_minor": 2
}
