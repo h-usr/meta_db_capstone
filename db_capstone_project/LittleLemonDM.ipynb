{
 "cells": [
  {
   "cell_type": "markdown",
   "metadata": {},
   "source": [
    "# Database setup"
   ]
  },
  {
   "cell_type": "markdown",
   "metadata": {},
   "source": [
    "Import libraries"
   ]
  },
  {
   "cell_type": "code",
   "execution_count": null,
   "metadata": {},
   "outputs": [],
   "source": [
    "import mysql.connector as connector"
   ]
  },
  {
   "cell_type": "markdown",
   "metadata": {},
   "source": [
    "Connect to localhost DB"
   ]
  },
  {
   "cell_type": "code",
   "execution_count": null,
   "metadata": {},
   "outputs": [],
   "source": [
    "connection = connector.connect(user = \"mysql\", password = \"mysql\")\n",
    "cursor = connection.cursor()\n",
    "print(\"Connected to DB\")"
   ]
  },
  {
   "cell_type": "markdown",
   "metadata": {},
   "source": [
    "Delete DB if exists to grant a fresh start"
   ]
  },
  {
   "cell_type": "code",
   "execution_count": null,
   "metadata": {},
   "outputs": [],
   "source": [
    "cursor.execute(\"DROP DATABASE IF EXISTS LittleLemonDB\")"
   ]
  },
  {
   "cell_type": "markdown",
   "metadata": {},
   "source": [
    "Create and Use DB"
   ]
  },
  {
   "cell_type": "code",
   "execution_count": null,
   "metadata": {},
   "outputs": [],
   "source": [
    "cursor.execute(\"CREATE DATABASE LittleLemonDB\") \n",
    "print(\"Little Lemon DB created\")"
   ]
  },
  {
   "cell_type": "code",
   "execution_count": null,
   "metadata": {},
   "outputs": [],
   "source": [
    "cursor.execute(\"USE LittleLemonDB\")"
   ]
  },
  {
   "cell_type": "markdown",
   "metadata": {},
   "source": [
    "Generate tables using SQL code generated from the ER diagram with the Forward Engineer function of MySQL Workbench"
   ]
  },
  {
   "cell_type": "code",
   "execution_count": null,
   "metadata": {},
   "outputs": [],
   "source": [
    "cursor.execute(\"\"\"\n",
    "-- MySQL Workbench Forward Engineering\n",
    "\n",
    "SET @OLD_UNIQUE_CHECKS=@@UNIQUE_CHECKS, UNIQUE_CHECKS=0;\n",
    "SET @OLD_FOREIGN_KEY_CHECKS=@@FOREIGN_KEY_CHECKS, FOREIGN_KEY_CHECKS=0;\n",
    "SET @OLD_SQL_MODE=@@SQL_MODE, SQL_MODE='ONLY_FULL_GROUP_BY,STRICT_TRANS_TABLES,NO_ZERO_IN_DATE,NO_ZERO_DATE,ERROR_FOR_DIVISION_BY_ZERO,NO_ENGINE_SUBSTITUTION';\n",
    "\n",
    "-- -----------------------------------------------------\n",
    "-- Schema LittleLemonDB\n",
    "-- -----------------------------------------------------\n",
    "\n",
    "-- -----------------------------------------------------\n",
    "-- Schema LittleLemonDB\n",
    "-- -----------------------------------------------------\n",
    "CREATE SCHEMA IF NOT EXISTS `LittleLemonDB` ;\n",
    "USE `LittleLemonDB` ;\n",
    "\n",
    "-- -----------------------------------------------------\n",
    "-- Table `LittleLemonDB`.`Bookings`\n",
    "-- -----------------------------------------------------\n",
    "CREATE TABLE IF NOT EXISTS `LittleLemonDB`.`Bookings` (\n",
    "  `id` INT NOT NULL AUTO_INCREMENT,\n",
    "  `date` DATETIME NOT NULL,\n",
    "  `tableNo` INT NOT NULL,\n",
    "  PRIMARY KEY (`id`),\n",
    "  UNIQUE INDEX `id_UNIQUE` (`id` ASC) VISIBLE)\n",
    "ENGINE = InnoDB;\n",
    "\n",
    "\n",
    "-- -----------------------------------------------------\n",
    "-- Table `LittleLemonDB`.`MenuItems`\n",
    "-- -----------------------------------------------------\n",
    "CREATE TABLE IF NOT EXISTS `LittleLemonDB`.`MenuItems` (\n",
    "  `id` INT NOT NULL AUTO_INCREMENT,\n",
    "  `courseName` VARCHAR(45) NULL,\n",
    "  `starterName` VARCHAR(45) NULL,\n",
    "  `dessertName` VARCHAR(45) NULL,\n",
    "  PRIMARY KEY (`id`),\n",
    "  UNIQUE INDEX `id_UNIQUE` (`id` ASC) VISIBLE)\n",
    "ENGINE = InnoDB;\n",
    "\n",
    "\n",
    "-- -----------------------------------------------------\n",
    "-- Table `LittleLemonDB`.`Menus`\n",
    "-- -----------------------------------------------------\n",
    "CREATE TABLE IF NOT EXISTS `LittleLemonDB`.`Menus` (\n",
    "  `id` INT NOT NULL AUTO_INCREMENT,\n",
    "  `menuItemsId` INT NOT NULL,\n",
    "  `name` VARCHAR(45) NULL,\n",
    "  `cuisine` VARCHAR(45) NULL,\n",
    "  PRIMARY KEY (`id`),\n",
    "  UNIQUE INDEX `id_UNIQUE` (`id` ASC) VISIBLE,\n",
    "  INDEX `fk_Menus_1_idx` (`menuItemsId` ASC) VISIBLE,\n",
    "  CONSTRAINT `fk_Menus_1`\n",
    "    FOREIGN KEY (`menuItemsId`)\n",
    "    REFERENCES `LittleLemonDB`.`MenuItems` (`id`)\n",
    "    ON DELETE NO ACTION\n",
    "    ON UPDATE NO ACTION)\n",
    "ENGINE = InnoDB;\n",
    "\n",
    "\n",
    "-- -----------------------------------------------------\n",
    "-- Table `LittleLemonDB`.`Customers`\n",
    "-- -----------------------------------------------------\n",
    "CREATE TABLE IF NOT EXISTS `LittleLemonDB`.`Customers` (\n",
    "  `id` INT NOT NULL AUTO_INCREMENT,\n",
    "  `fullName` VARCHAR(45) NOT NULL,\n",
    "  `phoneNumber` VARCHAR(45) NULL,\n",
    "  `email` VARCHAR(45) NULL,\n",
    "  PRIMARY KEY (`id`),\n",
    "  UNIQUE INDEX `id_UNIQUE` (`id` ASC) VISIBLE)\n",
    "ENGINE = InnoDB;\n",
    "\n",
    "\n",
    "-- -----------------------------------------------------\n",
    "-- Table `LittleLemonDB`.`Orders`\n",
    "-- -----------------------------------------------------\n",
    "CREATE TABLE IF NOT EXISTS `LittleLemonDB`.`Orders` (\n",
    "  `id` INT NOT NULL AUTO_INCREMENT,\n",
    "  `menuId` INT NULL,\n",
    "  `customerId` INT NULL,\n",
    "  `totalCost` DECIMAL NULL,\n",
    "  `quantity` INT NULL,\n",
    "  `bookingId` INT NULL,\n",
    "  PRIMARY KEY (`id`),\n",
    "  UNIQUE INDEX `id_UNIQUE` (`id` ASC) VISIBLE,\n",
    "  INDEX `fk_Orders_1_idx` (`menuId` ASC) VISIBLE,\n",
    "  INDEX `fk_Orders_2_idx` (`customerId` ASC) VISIBLE,\n",
    "  INDEX `fk_Orders_3_idx` (`bookingId` ASC) VISIBLE,\n",
    "  CONSTRAINT `fk_Orders_1`\n",
    "    FOREIGN KEY (`menuId`)\n",
    "    REFERENCES `LittleLemonDB`.`Menus` (`id`)\n",
    "    ON DELETE NO ACTION\n",
    "    ON UPDATE NO ACTION,\n",
    "  CONSTRAINT `fk_Orders_2`\n",
    "    FOREIGN KEY (`customerId`)\n",
    "    REFERENCES `LittleLemonDB`.`Customers` (`id`)\n",
    "    ON DELETE NO ACTION\n",
    "    ON UPDATE NO ACTION,\n",
    "  CONSTRAINT `fk_Orders_3`\n",
    "    FOREIGN KEY (`bookingId`)\n",
    "    REFERENCES `LittleLemonDB`.`Bookings` (`id`)\n",
    "    ON DELETE NO ACTION\n",
    "    ON UPDATE NO ACTION)\n",
    "ENGINE = InnoDB;\n",
    "\n",
    "\n",
    "-- -----------------------------------------------------\n",
    "-- Table `LittleLemonDB`.`OrderStatus`\n",
    "-- -----------------------------------------------------\n",
    "CREATE TABLE IF NOT EXISTS `LittleLemonDB`.`OrderStatus` (\n",
    "  `id` INT NOT NULL AUTO_INCREMENT,\n",
    "  `orderId` INT NOT NULL,\n",
    "  `date` DATETIME NULL,\n",
    "  `status` VARCHAR(45) NULL,\n",
    "  PRIMARY KEY (`id`),\n",
    "  UNIQUE INDEX `id_UNIQUE` (`id` ASC) VISIBLE,\n",
    "  INDEX `fk_OrderStatus_1_idx` (`orderId` ASC) VISIBLE,\n",
    "  CONSTRAINT `fk_OrderStatus_1`\n",
    "    FOREIGN KEY (`orderId`)\n",
    "    REFERENCES `LittleLemonDB`.`Orders` (`id`)\n",
    "    ON DELETE NO ACTION\n",
    "    ON UPDATE NO ACTION)\n",
    "ENGINE = InnoDB;\n",
    "\n",
    "\n",
    "-- -----------------------------------------------------\n",
    "-- Table `LittleLemonDB`.`Staff`\n",
    "-- -----------------------------------------------------\n",
    "CREATE TABLE IF NOT EXISTS `LittleLemonDB`.`Staff` (\n",
    "  `id` INT NOT NULL AUTO_INCREMENT,\n",
    "  `fullName` VARCHAR(45) NOT NULL,\n",
    "  `role` VARCHAR(45) NOT NULL,\n",
    "  `salary` FLOAT NOT NULL,\n",
    "  PRIMARY KEY (`id`),\n",
    "  UNIQUE INDEX `id_UNIQUE` (`id` ASC) VISIBLE)\n",
    "ENGINE = InnoDB;\n",
    "\n",
    "\n",
    "SET SQL_MODE=@OLD_SQL_MODE;\n",
    "SET FOREIGN_KEY_CHECKS=@OLD_FOREIGN_KEY_CHECKS;\n",
    "SET UNIQUE_CHECKS=@OLD_UNIQUE_CHECKS;\n",
    "\n",
    "\"\"\")"
   ]
  },
  {
   "cell_type": "markdown",
   "metadata": {},
   "source": [
    "Insert dummy data in the tables"
   ]
  },
  {
   "cell_type": "code",
   "execution_count": null,
   "metadata": {},
   "outputs": [],
   "source": [
    "cursor.execute(\"\"\"\n",
    "INSERT INTO Customers (fullName, phoneNumber, email)\n",
    "VALUES\n",
    "('Anna Iversen','+123456','a.iversen@mail.com'),\n",
    "('Joakim Iversen', '+138756', 'j.iversen@mail.com'),\n",
    "('Vanessa McCarthy', '+144459', 'v.mccarthy@mail.com'),\n",
    "('Marcos Romero', '+121006', 'm.romero@mail.com'),\n",
    "('Hiroki Yamane', '+100437', 'h.yamane@mail.com'),\n",
    "('Diana Pinto', '+199559', 'd.pinto@mail.com');      \n",
    "\"\"\")\n",
    "               \n",
    "cursor.execute(\"\"\"               \n",
    "INSERT INTO Bookings (date, tableNo)\n",
    "VALUES\n",
    "('2024-01-05 19:30:00',1),\n",
    "('2024-01-05 19:30:00',6),\n",
    "('2024-01-05 20:00:00',3),\n",
    "('2024-01-05 20:00:00',8),\n",
    "('2024-01-05 20:30:00',2);                    \n",
    "\"\"\")\n",
    "\n",
    "cursor.execute(\"\"\"\n",
    "INSERT INTO MenuItems (courseName, starterName, dessertName)\n",
    "VALUES\n",
    "('Olives','Olive Starters','Olive Dessert'),\n",
    "('Flatbread','Bread Starters', 'Olive Dessert'),\n",
    "('Minestrone', 'Soup Starters', 'Olive Dessert'),\n",
    "('Tomato bread','Tomato Starters', 'Olive Dessert'),\n",
    "('Falafel', 'Falafel Starters', 'Olive Dessert');\n",
    "\"\"\")\n",
    "               \n",
    "cursor.execute(\"\"\"                              \n",
    "INSERT INTO Menus (menuItemsId, name, cuisine)\n",
    "VALUES\n",
    "(1, 'Olives menu','Italian'),\n",
    "(2, 'Flatbread menu','Italian'),\n",
    "(3, 'Minestrone menu', 'Italian'),\n",
    "(4, 'Tomato bread menu','American'),\n",
    "(5, 'Falafel menu', 'Arab');               \n",
    "\"\"\")\n",
    "\n",
    "cursor.execute(\"\"\"\n",
    "INSERT INTO Orders (menuId, customerId, totalCost, quantity, bookingId)\n",
    "VALUES\n",
    "(2, 1, 200, 5, 1),\n",
    "(3, 4, 30, 1, 2),\n",
    "(3, 2, 160, 4, 3),\n",
    "(1, 5, 35, 1, 4),\n",
    "(4, 3, 80, 2, 5); \n",
    "\"\"\")                  \n",
    "\n",
    "cursor.execute(\"\"\"               \n",
    "INSERT INTO Staff (fullName, role, salary)\n",
    "VALUES\n",
    "('Mario Rossi', 'Owner', 100000),\n",
    "('Luigi Bianchi', 'Chef', 70000),\n",
    "('Marco Verdi', 'Waiter', 40000); \n",
    "\"\"\")"
   ]
  },
  {
   "cell_type": "markdown",
   "metadata": {},
   "source": [
    "Module 2 - Task 1.1 - Create OrdersView virtual table"
   ]
  },
  {
   "cell_type": "code",
   "execution_count": null,
   "metadata": {},
   "outputs": [],
   "source": [
    "cursor.execute(\"\"\"\n",
    "CREATE VIEW OrdersView AS\n",
    "    SELECT id, quantity, totalCost\n",
    "    FROM Orders\n",
    "    WHERE Quantity > 2;\n",
    "\"\"\")"
   ]
  },
  {
   "cell_type": "code",
   "execution_count": null,
   "metadata": {},
   "outputs": [],
   "source": [
    "cursor.execute(\"SELECT * FROM OrdersView;\")\n",
    "results = cursor.fetchall()\n",
    "for result in results:\n",
    "    print(results)"
   ]
  },
  {
   "cell_type": "markdown",
   "metadata": {},
   "source": [
    "Module 2 - Task 1.2 - Query DB for information on all customers with orders that cost more than $150"
   ]
  },
  {
   "cell_type": "code",
   "execution_count": null,
   "metadata": {},
   "outputs": [],
   "source": [
    "cursor.execute(\"\"\"\n",
    "SELECT Customers.id, Customers.fullName, Orders.id, Orders.totalCost, Menus.name, MenuItems.courseName \n",
    "FROM Customers \n",
    "INNER JOIN Orders ON Orders.customerId = Customers.Id\n",
    "INNER JOIN Menus ON Orders.menuId = Menus.id\n",
    "INNER JOIN MenuItems ON Menus.menuItemsId = MenuItems.id \n",
    "WHERE Orders.totalCost > 150;\n",
    "\"\"\")\n",
    "results = cursor.fetchall()\n",
    "for result in results:\n",
    "    print(result)"
   ]
  },
  {
   "cell_type": "markdown",
   "metadata": {},
   "source": [
    "Module 2 - Task 1.3 - Find all menu items for which more than 2 orders have been placed"
   ]
  },
  {
   "cell_type": "code",
   "execution_count": null,
   "metadata": {},
   "outputs": [],
   "source": [
    "cursor.execute(\"\"\"\n",
    "SELECT DISTINCT name FROM Menus WHERE id = ANY(SELECT menuId FROM Orders WHERE quantity > 2);\n",
    "\"\"\")\n",
    "results = cursor.fetchall()\n",
    "for result in results:\n",
    "    print(result)"
   ]
  },
  {
   "cell_type": "markdown",
   "metadata": {},
   "source": [
    "Module 2 - Task 2.1 - Create a procedure that displays the maximum ordered quantity in the Orders table."
   ]
  },
  {
   "cell_type": "code",
   "execution_count": null,
   "metadata": {},
   "outputs": [],
   "source": [
    "cursor.execute(\"\"\"\n",
    "CREATE PROCEDURE GetMaxQuantity()  \n",
    "SELECT MAX(Quantity) AS \"Max Quantity in Order\"\n",
    "FROM Orders;\n",
    "\"\"\")"
   ]
  },
  {
   "cell_type": "code",
   "execution_count": null,
   "metadata": {},
   "outputs": [],
   "source": [
    "cursor.execute(\"\"\"\n",
    "CALL GetMaxQuantity();\n",
    "\"\"\")\n",
    "results = cursor.fetchall()\n",
    "for result in results:\n",
    "    print(result)"
   ]
  },
  {
   "cell_type": "markdown",
   "metadata": {},
   "source": [
    "Module 2 - Task 2.2 - Create a prepared statement called GetOrderDetail"
   ]
  },
  {
   "cell_type": "code",
   "execution_count": null,
   "metadata": {},
   "outputs": [],
   "source": [
    "cursor.execute(\"\"\"\n",
    "PREPARE GetOrderDetail  FROM 'SELECT id, quantity, totalCost FROM Orders WHERE customerId = ?';\n",
    "\"\"\")"
   ]
  },
  {
   "cell_type": "code",
   "execution_count": null,
   "metadata": {},
   "outputs": [],
   "source": [
    "cursor.execute(\"\"\"\n",
    "SET @id = 1;\n",
    "EXECUTE GetOrderDetail USING @id;\n",
    "\"\"\")\n",
    "results = cursor.fetchall()\n",
    "for result in results:\n",
    "    print(result)"
   ]
  },
  {
   "cell_type": "markdown",
   "metadata": {},
   "source": [
    "Module 2 - Task 2.3 - Create a stored procedure called CancelOrder"
   ]
  },
  {
   "cell_type": "code",
   "execution_count": null,
   "metadata": {},
   "outputs": [],
   "source": [
    "cursor.execute(\"\"\"\n",
    "CREATE PROCEDURE CancelOrder(IN targetId INT)\n",
    "BEGIN\n",
    "    DECLARE orderExists INT;\n",
    "    -- Check for order existence\n",
    "    SELECT COUNT(*) INTO orderExists FROM Orders WHERE id = targetId;\n",
    "    -- If exists, delete and notify\n",
    "    IF orderExists > 0 THEN\n",
    "        DELETE FROM Orders WHERE id = targetId;\n",
    "        SELECT CONCAT('Order ID ', targetId, ' has been canceled.') AS Result;\n",
    "    ELSE\n",
    "        -- Else, error message\n",
    "        SELECT 'Order not found. No action taken.' AS Result;\n",
    "    END IF;\n",
    "END;\n",
    "\"\"\")"
   ]
  },
  {
   "cell_type": "code",
   "execution_count": null,
   "metadata": {},
   "outputs": [],
   "source": [
    "cursor.execute(\"\"\"\n",
    "CALL CancelOrder(3);\n",
    "\"\"\")\n",
    "results = cursor.fetchall()\n",
    "for result in results:\n",
    "    print(result)"
   ]
  },
  {
   "cell_type": "markdown",
   "metadata": {},
   "source": [
    "Module 2 - Task 3.2 - Create a stored procedure called CheckBooking to check whether a table in the restaurant is already booked."
   ]
  },
  {
   "cell_type": "code",
   "execution_count": null,
   "metadata": {},
   "outputs": [],
   "source": [
    "cursor.execute(\"\"\"\n",
    "CREATE PROCEDURE CheckBooking (target_date DATE, target_table INT)\n",
    "BEGIN\n",
    "  DECLARE bookedTable INT DEFAULT 0;\n",
    "  -- Count bookings on that table for given date (ideally should be 0 or 1) \n",
    "  SELECT COUNT(bookedTable)\n",
    "  INTO bookedTable\n",
    "  FROM Bookings WHERE DATE(date) = target_date and tableNo = target_table;\n",
    "  -- Free table\n",
    "  IF bookedTable > 0 THEN\n",
    "    SELECT CONCAT( \"Table \", target_table, \" is already booked.\") AS \"Booking status\";\n",
    "  -- Booked table\n",
    "  ELSE \n",
    "    SELECT CONCAT( \"Table \", target_table, \" is not booked.\") AS \"Booking status\";\n",
    "  END IF;\n",
    "END;\n",
    "\"\"\")"
   ]
  },
  {
   "cell_type": "code",
   "execution_count": null,
   "metadata": {},
   "outputs": [],
   "source": [
    "cursor.execute(\"\"\"\n",
    "CALL CheckBooking('2024-01-05', 2);\n",
    "\"\"\")\n",
    "results = cursor.fetchall()\n",
    "for result in results:\n",
    "    print(result)"
   ]
  },
  {
   "cell_type": "markdown",
   "metadata": {},
   "source": [
    "Module 2 - Task 3.3 - Verify a booking, and decline any reservations for tables that are already booked under another name"
   ]
  },
  {
   "cell_type": "code",
   "execution_count": null,
   "metadata": {},
   "outputs": [],
   "source": [
    "cursor.execute(\"\"\"\n",
    "CREATE PROCEDURE AddValidBooking (target_date DATE, target_table INT)\n",
    "BEGIN\n",
    "\tDECLARE bookedTable INT DEFAULT 0;\n",
    "\tSTART TRANSACTION;\n",
    "\tSELECT COUNT(*) INTO bookedTable\n",
    "\tFROM Bookings\n",
    "\tWHERE DATE(date) = target_date AND tableNo = target_table;\n",
    "\tIF bookedTable > 0 THEN\n",
    "\t\tROLLBACK;\n",
    "\t\tSELECT 'Table is already booked on the specified date. Booking canceled.' AS Result;\n",
    "\tELSE\n",
    "\t\tINSERT INTO Bookings (date, TableNo) VALUES (target_date, target_table);\n",
    "\t\tCOMMIT;\n",
    "\t\tSELECT 'Booking successful. Table reserved for the specified date.' AS Result;\n",
    "\tEND IF;\n",
    "END;\n",
    "\"\"\")"
   ]
  },
  {
   "cell_type": "code",
   "execution_count": null,
   "metadata": {},
   "outputs": [],
   "source": [
    "cursor.execute(\"\"\"\n",
    "CALL AddValidBooking('2024-11-12', 5);\n",
    "\"\"\")\n",
    "results = cursor.fetchall()\n",
    "for result in results:\n",
    "    print(result)"
   ]
  },
  {
   "cell_type": "markdown",
   "metadata": {},
   "source": [
    "Module 2 - Task 4.1 - Create a new procedure called AddBooking to add a new table booking record"
   ]
  },
  {
   "cell_type": "code",
   "execution_count": null,
   "metadata": {},
   "outputs": [],
   "source": [
    "cursor.execute(\"\"\"\n",
    "CREATE PROCEDURE AddBooking (target_booking_id INT, target_customer_id INT, target_date DATE, target_table INT)\n",
    "BEGIN\n",
    "    INSERT INTO Bookings (id, date, tableNo)\n",
    "    VALUES (target_booking_id, target_date, target_table);\n",
    "    INSERT INTO Orders (bookingId, customerId)\n",
    "    VALUES (target_booking_id, target_customer_id);\n",
    "    SELECT 'New Booking Added' AS Result;\n",
    "END;\n",
    "\"\"\")"
   ]
  },
  {
   "cell_type": "code",
   "execution_count": null,
   "metadata": {},
   "outputs": [],
   "source": [
    "cursor.execute(\"\"\"\n",
    "CALL AddBooking(9,3,'2024-10-10',5);\n",
    "\"\"\")\n",
    "results = cursor.fetchall()\n",
    "for result in results:\n",
    "    print(result)"
   ]
  },
  {
   "cell_type": "markdown",
   "metadata": {},
   "source": [
    "Module 2 - Task 4.2 - Create a new procedure called UpdateBooking to update existing bookings in the booking table"
   ]
  },
  {
   "cell_type": "code",
   "execution_count": null,
   "metadata": {},
   "outputs": [],
   "source": [
    "cursor.execute(\"\"\"\n",
    "CREATE PROCEDURE UpdateBooking (target_booking_id INT, target_date DATE)\n",
    "BEGIN\n",
    "    UPDATE Bookings SET date = target_date WHERE id = target_booking_id; \n",
    "    SELECT CONCAT( \"Booking \", target_booking_id, \" updated\") AS \"Confirmation\";\n",
    "END;\n",
    "\"\"\")"
   ]
  },
  {
   "cell_type": "code",
   "execution_count": null,
   "metadata": {},
   "outputs": [],
   "source": [
    "cursor.execute(\"\"\"\n",
    "CALL UpdateBooking(3, '2024-01-09');\n",
    "\"\"\")\n",
    "results = cursor.fetchall()\n",
    "for result in results:\n",
    "    print(result)"
   ]
  },
  {
   "cell_type": "markdown",
   "metadata": {},
   "source": [
    "Module 2 - Task 4.3 - Create a new procedure called CancelBooking to cancel a booking"
   ]
  },
  {
   "cell_type": "code",
   "execution_count": null,
   "metadata": {},
   "outputs": [],
   "source": [
    "cursor.execute(\"\"\"\n",
    "CREATE PROCEDURE CancelBooking (target_booking_id INT)\n",
    "BEGIN\n",
    "    DELETE FROM Orders WHERE bookingId = target_booking_id;\n",
    "    DELETE FROM Bookings WHERE id = target_booking_id;\n",
    "    SELECT CONCAT( \"Booking \", target_booking_id, \" cancelled\") AS \"Confirmation\"; \n",
    "END;\n",
    "\"\"\")"
   ]
  },
  {
   "cell_type": "code",
   "execution_count": null,
   "metadata": {},
   "outputs": [],
   "source": [
    "cursor.execute(\"\"\"\n",
    "CALL CAncelBooking(3);\n",
    "\"\"\")\n",
    "results = cursor.fetchall()\n",
    "for result in results:\n",
    "    print(result)"
   ]
  },
  {
   "cell_type": "markdown",
   "metadata": {},
   "source": [
    "Terminate cursor and connection"
   ]
  },
  {
   "cell_type": "code",
   "execution_count": null,
   "metadata": {},
   "outputs": [],
   "source": [
    "cursor.close()\n",
    "connection.commit()\n",
    "connection.close()"
   ]
  }
 ],
 "metadata": {
  "kernelspec": {
   "display_name": "Python 3",
   "language": "python",
   "name": "python3"
  },
  "language_info": {
   "codemirror_mode": {
    "name": "ipython",
    "version": 3
   },
   "file_extension": ".py",
   "mimetype": "text/x-python",
   "name": "python",
   "nbconvert_exporter": "python",
   "pygments_lexer": "ipython3",
   "version": "3.12.3"
  }
 },
 "nbformat": 4,
 "nbformat_minor": 2
}
